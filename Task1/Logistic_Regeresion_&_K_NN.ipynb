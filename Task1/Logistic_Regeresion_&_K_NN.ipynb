{
  "nbformat": 4,
  "nbformat_minor": 0,
  "metadata": {
    "colab": {
      "provenance": [],
      "authorship_tag": "ABX9TyOxA4QOz9+Y7y0O/A5Z38GT",
      "include_colab_link": true
    },
    "kernelspec": {
      "name": "python3",
      "display_name": "Python 3"
    },
    "language_info": {
      "name": "python"
    }
  },
  "cells": [
    {
      "cell_type": "markdown",
      "metadata": {
        "id": "view-in-github",
        "colab_type": "text"
      },
      "source": [
        "<a href=\"https://colab.research.google.com/github/junduk123/Machine-Learning-Task/blob/main/Task1/Logistic_Regeresion_%26_K_NN.ipynb\" target=\"_parent\"><img src=\"https://colab.research.google.com/assets/colab-badge.svg\" alt=\"Open In Colab\"/></a>"
      ]
    },
    {
      "cell_type": "code",
      "execution_count": 6,
      "metadata": {
        "colab": {
          "base_uri": "https://localhost:8080/"
        },
        "id": "WsfQas6lVG4k",
        "outputId": "e368e4f9-7ec0-4cf4-f0c6-434ed1183646"
      },
      "outputs": [
        {
          "output_type": "stream",
          "name": "stdout",
          "text": [
            "Drive already mounted at /content/drive; to attempt to forcibly remount, call drive.mount(\"/content/drive\", force_remount=True).\n"
          ]
        }
      ],
      "source": [
        "from google.colab import drive\n",
        "drive.mount('/content/drive')"
      ]
    },
    {
      "cell_type": "markdown",
      "source": [
        "##Logistic Regeresion"
      ],
      "metadata": {
        "id": "wuR8fjsK0HJr"
      }
    },
    {
      "cell_type": "code",
      "source": [
        "# First, let's load the Iris dataset and adjust the provided code accordingly\n",
        "\n",
        "import pandas as pd\n",
        "from sklearn.linear_model import LogisticRegression\n",
        "from sklearn.model_selection import train_test_split\n",
        "from sklearn.metrics import accuracy_score, confusion_matrix\n",
        "import matplotlib.pyplot as plt\n",
        "import seaborn as sns\n",
        "\n",
        "# 1. Loading the Iris dataset\n",
        "iris_dataset = pd.read_csv('/content/drive/MyDrive/Dataset/Iris.csv')\n",
        "\n",
        "# 2. Using 'PetalLengthCm' and 'PetalWidthCm' as features\n",
        "X = iris_dataset[['PetalLengthCm', 'PetalWidthCm']]\n",
        "\n",
        "# 3. For binary classification: using 'Iris-setosa' and 'Iris-versicolor' classes only\n",
        "iris_dataset_binary = iris_dataset[iris_dataset['Species'].isin(['Iris-setosa', 'Iris-versicolor'])]\n",
        "X_binary = iris_dataset_binary[['PetalLengthCm', 'PetalWidthCm']]\n",
        "y_binary = iris_dataset_binary['Species'].apply(lambda x: 1 if x == 'Iris-versicolor' else 0)\n",
        "\n",
        "# 4. Splitting the dataset into training and test sets\n",
        "X_train, X_test, y_train, y_test = train_test_split(X_binary, y_binary, test_size=0.1, random_state=47)\n",
        "\n",
        "# 5. Training the Logistic Regression model\n",
        "model = LogisticRegression()\n",
        "model.fit(X_train, y_train)\n",
        "\n",
        "# 6. Evaluating the model\n",
        "y_pred = model.predict(X_test)\n",
        "accuracy = accuracy_score(y_test, y_pred)\n",
        "print(f\"Akurasinya: {accuracy:.2f}\")\n",
        "\n",
        "# 7. Confusion matrix\n",
        "conf_matrix = confusion_matrix(y_test, y_pred)\n",
        "\n",
        "# 8. Displaying the confusion matrix\n",
        "plt.figure(figsize=(6, 4))\n",
        "sns.heatmap(conf_matrix, annot=True, fmt='d', cmap='Blues')\n",
        "plt.title('Matriks Konfusi - Regresi Logistik')\n",
        "plt.xlabel('Prediksi')\n",
        "plt.ylabel('Aktual')\n",
        "plt.show()"
      ],
      "metadata": {
        "colab": {
          "base_uri": "https://localhost:8080/",
          "height": 427
        },
        "id": "rr1_mpnitgla",
        "outputId": "ea3c3125-1eec-4c0c-dc95-a7201894048f"
      },
      "execution_count": 8,
      "outputs": [
        {
          "output_type": "stream",
          "name": "stdout",
          "text": [
            "Akurasinya: 1.00\n"
          ]
        },
        {
          "output_type": "display_data",
          "data": {
            "text/plain": [
              "<Figure size 600x400 with 2 Axes>"
            ],
            "image/png": "[encoded data removed]"
          },
          "metadata": {}
        }
      ]
    },
    {
      "cell_type": "markdown",
      "source": [
        "##K-NN"
      ],
      "metadata": {
        "id": "Tttl7AYX0izZ"
      }
    },
    {
      "cell_type": "code",
      "source": [
        "import pandas as pd\n",
        "import numpy as np\n",
        "import matplotlib.pyplot as plt\n",
        "from sklearn.neighbors import KNeighborsClassifier\n",
        "from sklearn.model_selection import train_test_split\n",
        "from sklearn.metrics import accuracy_score\n",
        "\n",
        "# Load the dataset\n",
        "dataset = pd.read_csv('/content/drive/MyDrive/Dataset/Social_Network_Ads.csv')\n",
        "\n",
        "dataset.head()\n",
        "dataset.info()\n",
        "\n",
        "dataset['Purchased'].value_counts()\n",
        "\n",
        "# Memisahkan data menjadi fitur dan target\n",
        "X = dataset[['Age', 'EstimatedSalary']]\n",
        "y = dataset['Purchased']\n",
        "\n",
        "X_train, X_test, y_train, y_test = train_test_split(X, y, test_size=0.1, random_state=47)\n",
        "\n",
        "n_neighbors = 7\n",
        "model = KNeighborsClassifier(n_neighbors=n_neighbors)\n",
        "model.fit(X_train, y_train)\n",
        "\n",
        "# Mengevaluasi model pada set pengujian\n",
        "y_pred = model.predict(X_test)\n",
        "akurasi = accuracy_score(y_test, y_pred)\n",
        "print(f\"Akurasi K-NN: {akurasi:.2f}\")\n",
        "\n",
        "# Membuat matriks konfusi\n",
        "conf_matrix = confusion_matrix(y_test, y_pred)\n",
        "\n",
        "# Memvisualisasikan matriks konfusi\n",
        "plt.figure(figsize=(6, 4))\n",
        "sns.heatmap(conf_matrix, annot=True, fmt='d', cmap='Blues')\n",
        "plt.title('Matriks Konfusi - K-NN')\n",
        "plt.xlabel('Diprediksi')\n",
        "plt.ylabel('Aktual')\n",
        "plt.show()"
      ],
      "metadata": {
        "colab": {
          "base_uri": "https://localhost:8080/",
          "height": 601
        },
        "id": "ULJNZesH0mfI",
        "outputId": "02e77cd1-032d-4ee3-cf46-8554ccb0f59d"
      },
      "execution_count": 9,
      "outputs": [
        {
          "output_type": "stream",
          "name": "stdout",
          "text": [
            "<class 'pandas.core.frame.DataFrame'>\n",
            "RangeIndex: 400 entries, 0 to 399\n",
            "Data columns (total 3 columns):\n",
            " #   Column           Non-Null Count  Dtype\n",
            "---  ------           --------------  -----\n",
            " 0   Age              400 non-null    int64\n",
            " 1   EstimatedSalary  400 non-null    int64\n",
            " 2   Purchased        400 non-null    int64\n",
            "dtypes: int64(3)\n",
            "memory usage: 9.5 KB\n",
            "Akurasi K-NN: 0.95\n"
          ]
        },
        {
          "output_type": "display_data",
          "data": {
            "text/plain": [
              "<Figure size 600x400 with 2 Axes>"
            ],
            "image/png": "[encoded data removed]"
          },
          "metadata": {}
        }
      ]
    }
  ]
}