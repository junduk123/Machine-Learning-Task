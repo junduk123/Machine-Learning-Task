{
  "nbformat": 4,
  "nbformat_minor": 0,
  "metadata": {
    "colab": {
      "provenance": [],
      "authorship_tag": "ABX9TyM8ykHAXiY8YdZ238EbukeH",
      "include_colab_link": true
    },
    "kernelspec": {
      "name": "python3",
      "display_name": "Python 3"
    },
    "language_info": {
      "name": "python"
    }
  },
  "cells": [
    {
      "cell_type": "markdown",
      "metadata": {
        "id": "view-in-github",
        "colab_type": "text"
      },
      "source": [
        "<a href=\"https://colab.research.google.com/github/junduk123/Machine-Learning-Task/blob/main/Task2/FinancialMarket.ipynb\" target=\"_parent\"><img src=\"https://colab.research.google.com/assets/colab-badge.svg\" alt=\"Open In Colab\"/></a>"
      ]
    },
    {
      "cell_type": "code",
      "execution_count": 1,
      "metadata": {
        "colab": {
          "base_uri": "https://localhost:8080/"
        },
        "id": "iKrvPvVzxNNb",
        "outputId": "2f5594bd-c4de-48b1-94a0-f877498e8d01"
      },
      "outputs": [
        {
          "output_type": "stream",
          "name": "stdout",
          "text": [
            "Mounted at /content/drive\n"
          ]
        }
      ],
      "source": [
        "from google.colab import drive\n",
        "drive.mount('/content/drive')"
      ]
    },
    {
      "cell_type": "code",
      "source": [
        "# Import necessary libraries\n",
        "import pandas as pd\n",
        "from sklearn.model_selection import train_test_split\n",
        "from sklearn.linear_model import LinearRegression\n",
        "from sklearn.preprocessing import PolynomialFeatures\n",
        "from sklearn.metrics import mean_squared_error, mean_absolute_error, r2_score\n",
        "import numpy as np"
      ],
      "metadata": {
        "id": "Va2s2bg7yKNv"
      },
      "execution_count": 2,
      "outputs": []
    },
    {
      "cell_type": "code",
      "source": [
        "# Load the dataset\n",
        "file_path = \"/content/drive/MyDrive/Dataset/FinancialMarket.csv\"\n",
        "data = pd.read_csv(file_path)"
      ],
      "metadata": {
        "id": "FBeMirOTyNcF"
      },
      "execution_count": 3,
      "outputs": []
    },
    {
      "cell_type": "code",
      "source": [
        "# Selecting features (x) and target (combined_data)\n",
        "X = data[['x']]  # Independent variable\n",
        "y = data['combined_data']  # Dependent variable"
      ],
      "metadata": {
        "id": "g5EJa2n4yPo8"
      },
      "execution_count": 4,
      "outputs": []
    },
    {
      "cell_type": "code",
      "source": [
        "# Splitting the data into training and testing sets (80% train, 20% test)\n",
        "X_train, X_test, y_train, y_test = train_test_split(X, y, test_size=0.2, random_state=42)"
      ],
      "metadata": {
        "id": "Wi8FsNMDyTjD"
      },
      "execution_count": 5,
      "outputs": []
    },
    {
      "cell_type": "code",
      "source": [
        "# 1. Linear Regression Model\n",
        "# Creating a simple linear regression model\n",
        "linear_model = LinearRegression()\n",
        "linear_model.fit(X_train, y_train)  # Fitting the model\n",
        "y_pred_linear = linear_model.predict(X_test)  # Making predictions"
      ],
      "metadata": {
        "id": "c8hgPMndyWXi"
      },
      "execution_count": 6,
      "outputs": []
    },
    {
      "cell_type": "code",
      "source": [
        "# Evaluating the Linear Regression Model\n",
        "mse_linear = mean_squared_error(y_test, y_pred_linear)\n",
        "rmse_linear = np.sqrt(mse_linear)\n",
        "r2_linear = r2_score(y_test, y_pred_linear)"
      ],
      "metadata": {
        "id": "aZ10FrItyYnI"
      },
      "execution_count": 7,
      "outputs": []
    },
    {
      "cell_type": "code",
      "source": [
        "# 2. Polynomial Regression Model (Basis Function)\n",
        "# Using PolynomialFeatures to create polynomial features (degree 2 for example)\n",
        "poly_features = PolynomialFeatures(degree=2)\n",
        "X_train_poly = poly_features.fit_transform(X_train)\n",
        "X_test_poly = poly_features.transform(X_test)"
      ],
      "metadata": {
        "id": "6ntXXdH2ybJT"
      },
      "execution_count": 8,
      "outputs": []
    },
    {
      "cell_type": "code",
      "source": [
        "# Creating a linear regression model for the polynomial features\n",
        "poly_model = LinearRegression()\n",
        "poly_model.fit(X_train_poly, y_train)  # Fitting the model with polynomial features\n",
        "y_pred_poly = poly_model.predict(X_test_poly)  # Making predictions\n"
      ],
      "metadata": {
        "id": "Lc0A0urVydsz"
      },
      "execution_count": 9,
      "outputs": []
    },
    {
      "cell_type": "code",
      "source": [
        "# Evaluating the Polynomial Regression Model\n",
        "mse_poly = mean_squared_error(y_test, y_pred_poly)\n",
        "rmse_poly = np.sqrt(mse_poly)\n",
        "r2_poly = r2_score(y_test, y_pred_poly)"
      ],
      "metadata": {
        "id": "pM-xNbe-yf3p"
      },
      "execution_count": 10,
      "outputs": []
    },
    {
      "cell_type": "code",
      "source": [
        "# Compile the results for comparison\n",
        "comparison_results = {\n",
        "    'Linear Regression': {\n",
        "        'MSE': mse_linear,\n",
        "        'RMSE': rmse_linear,\n",
        "        'R-squared': r2_linear\n",
        "    },\n",
        "    'Polynomial Regression (degree=2)': {\n",
        "        'MSE': mse_poly,\n",
        "        'RMSE': rmse_poly,\n",
        "        'R-squared': r2_poly\n",
        "    }\n",
        "}\n"
      ],
      "metadata": {
        "id": "Pt5__IM3yiky"
      },
      "execution_count": 11,
      "outputs": []
    },
    {
      "cell_type": "code",
      "source": [
        "# Display the comparison results\n",
        "print(comparison_results)"
      ],
      "metadata": {
        "colab": {
          "base_uri": "https://localhost:8080/"
        },
        "id": "bRufoQNoyk59",
        "outputId": "24f6a669-a239-4e3b-a0b9-424aaac71629"
      },
      "execution_count": 12,
      "outputs": [
        {
          "output_type": "stream",
          "name": "stdout",
          "text": [
            "{'Linear Regression': {'MSE': 9.401377787555104, 'RMSE': 3.0661666274935393, 'R-squared': 0.6781603066194921}, 'Polynomial Regression (degree=2)': {'MSE': 1.3480931930431028, 'RMSE': 1.161074154842447, 'R-squared': 0.9538503919636472}}\n"
          ]
        }
      ]
    }
  ]
}